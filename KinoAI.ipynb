{
 "cells": [
  {
   "cell_type": "markdown",
   "metadata": {
    "id": "4iA374LukFxh"
   },
   "source": [
    "# **Kino Deep Neural Network**"
   ]
  },
  {
   "cell_type": "markdown",
   "metadata": {
    "id": "sVVlD8Nhkf4J"
   },
   "source": [
    "We will have 3 different sections:\n",
    "- Section 1 - Write function to fetch the data\n",
    "- Section 2 - Fetch data and store it in csv file\n",
    "- Section 3 - Create the DNN and train on data\n",
    "- Section 4 - Predict next Draws"
   ]
  },
  {
   "cell_type": "markdown",
   "metadata": {
    "id": "fEHTreF8lNkq"
   },
   "source": [
    "# Section 1 - Write function to fetch the data"
   ]
  },
  {
   "cell_type": "code",
   "execution_count": 3,
   "metadata": {
    "id": "_KK7LQnimXeL"
   },
   "outputs": [],
   "source": [
    "import requests"
   ]
  },
  {
   "cell_type": "code",
   "execution_count": 4,
   "metadata": {
    "id": "NZe4JmS2mxaq"
   },
   "outputs": [],
   "source": [
    "current_draw = 'https://api.opap.gr/draws/v3.0/1100/last-result-and-active'"
   ]
  },
  {
   "cell_type": "code",
   "execution_count": 5,
   "metadata": {
    "id": "5CcBjE_otKXy"
   },
   "outputs": [],
   "source": [
    "  response = requests.get(current_draw)\n",
    "  data = response.json()\n",
    "\n",
    "  # Get Draw ID\n",
    "  draw_id = data['last']['drawTime']"
   ]
  },
  {
   "cell_type": "code",
   "execution_count": 6,
   "metadata": {
    "id": "WffmWDqNkCT4"
   },
   "outputs": [],
   "source": [
    "def get_active_draw():\n",
    "\n",
    "  # Make API call\n",
    "  response = requests.get(current_draw)\n",
    "  data = response.json()\n",
    "\n",
    "  # Get Draw ID\n",
    "  draw_id = data['last']['drawId']\n",
    "\n",
    "  # Get winning numbers and sort them\n",
    "  winning_numbers = data['last']['winningNumbers']['list']\n",
    "  winning_numbers.sort()\n",
    "\n",
    "  # Get datetime\n",
    "  timestamp = data['last']['drawTime']\n",
    "  date = datetime.datetime.fromtimestamp(timestamp / 1e3)\n",
    "  month = date.month\n",
    "  day = date.day\n",
    "  hour = date.hour\n",
    "  minute = date.minute\n",
    "\n",
    "  return draw_id, winning_numbers, month, day, hour, minute"
   ]
  },
  {
   "cell_type": "code",
   "execution_count": 7,
   "metadata": {
    "id": "ZN8bu-Zw43yr"
   },
   "outputs": [],
   "source": [
    "def get_draw(draw_id):\n",
    "  \n",
    "  # Make API call\n",
    "  response = requests.get(f'https://api.opap.gr/draws/v3.0/1100/{draw_id}')\n",
    "  data = response.json()\n",
    "\n",
    "  # Get winning numbers and sort them\n",
    "  winning_numbers = data['winningNumbers']['list']\n",
    "  winning_numbers.sort()\n",
    "\n",
    "  # Get datetime\n",
    "  timestamp = data['drawTime']\n",
    "  date = datetime.datetime.fromtimestamp(timestamp / 1e3)\n",
    "  month = date.month\n",
    "  day = date.day\n",
    "  hour = date.hour\n",
    "  minute = date.minute\n",
    "\n",
    "  return winning_numbers, month, day, hour, minute"
   ]
  },
  {
   "cell_type": "markdown",
   "metadata": {
    "id": "l7QsY20sqp2J"
   },
   "source": [
    "# Section2 - Fetch data and store it in csv file"
   ]
  },
  {
   "cell_type": "code",
   "execution_count": 8,
   "metadata": {
    "id": "N_QEWhyQjegs"
   },
   "outputs": [],
   "source": [
    "import time\n",
    "import pandas as pd\n",
    "import datetime\n",
    "import matplotlib.pyplot as plt"
   ]
  },
  {
   "cell_type": "markdown",
   "metadata": {
    "id": "k4JrXYGSFbia"
   },
   "source": [
    "From some tests i performed i found that the respective times required for N draws are:\n",
    "- **100** draws in **18.54** seconds\n",
    "- **200** draws in **35.47** seconds\n",
    "- **500** draws in **89.80** seconds\n",
    "- **1000** draws in **186.87** seconds\n",
    "- **1500** draws in **299.32** seconds\n",
    "\n",
    "So in order not to lose some draws see what best fits for you regarding your internet speed! Five minutes is the limit (**300s**) !\n",
    "\n",
    "Or you can fetch many past data and train only on them."
   ]
  },
  {
   "cell_type": "code",
   "execution_count": 9,
   "metadata": {
    "id": "ot6DzY5U-Fd0"
   },
   "outputs": [],
   "source": [
    "draws_df = pd.read_csv('./kino.csv')"
   ]
  },
  {
   "cell_type": "code",
   "execution_count": 11,
   "metadata": {
    "id": "RsaFUqaLvg2d"
   },
   "outputs": [],
   "source": [
    "# How many draws from the past to get \n",
    "num_of_prev_draws_to_get =  1000#@param {type:\"integer\"}"
   ]
  },
  {
   "cell_type": "code",
   "execution_count": 13,
   "metadata": {
    "colab": {
     "base_uri": "https://localhost:8080/",
     "height": 1000
    },
    "id": "6BgqoKazCI-7",
    "outputId": "f2c39717-cced-47ae-92f0-69a0c46794d7"
   },
   "outputs": [],
   "source": [
    "# Start count time\n",
    "start = time.time()\n",
    "\n",
    "num_calls = []\n",
    "time_taken = []\n",
    "\n",
    "# Get previous draw ID\n",
    "previous_draw_id , _ , _ , _ , _ , _ = get_active_draw()\n",
    "\n",
    "winning_numbers, month, day, hour, minute = get_draw(previous_draw_id-num_of_prev_draws_to_get)\n",
    "\n",
    "# Initialize dataframe\n",
    "draws_df = pd.DataFrame([{'Winning Numbers':winning_numbers,'Month':month,'Day':day,'Hour':hour,'Minute':minute}])\n",
    "i = 1;\n",
    "for draw_id in range(previous_draw_id - num_of_prev_draws_to_get + 1,previous_draw_id):\n",
    "  i+=1\n",
    "  winning_numbers, month, day, hour, minute = get_draw(draw_id)\n",
    "  row_to_append = pd.Series([winning_numbers, month, day, hour, minute], index = draws_df.columns)\n",
    "  draws_df = draws_df.append(row_to_append, ignore_index=True)\n",
    "  if i % 100 == 0:\n",
    "    num_calls.append(i)\n",
    "    time_passed = round(time.time() - start,2)\n",
    "    time_taken.append(time_passed)\n",
    "    print(f'Fetched {i} draws in {time_passed}s')\n",
    "\n",
    "# Save dataframe\n",
    "draws_df.to_csv('kino.csv',index=False)"
   ]
  },
  {
   "cell_type": "markdown",
   "metadata": {
    "id": "BtNC-Uw9UpUr"
   },
   "source": [
    " ### Plot time taken based on num of API calls"
   ]
  },
  {
   "cell_type": "code",
   "execution_count": null,
   "metadata": {
    "id": "LlkPqLeeMyIT"
   },
   "outputs": [],
   "source": [
    "position = time_taken.index(300-min([300-passed_time for passed_time in time_taken if 300-passed_time>0]))\n",
    "\n",
    "font = {'family': 'serif',\n",
    "        'color':  'darkred',\n",
    "        'weight': 'normal',\n",
    "        'size': 16,\n",
    "        };\n",
    "\n",
    "title_font = {'family': 'serif',\n",
    "        'color':  'darkred',\n",
    "        'weight': 'normal',\n",
    "        'size': 24,\n",
    "        };\n",
    "plt.rcParams[\"figure.figsize\"] = (10,10)\n",
    "plt.plot(time_taken,num_calls);\n",
    "plt.plot(time_taken[position],num_calls[position],'bo',markersize=10)\n",
    "plt.text(time_taken[position],num_calls[position]-100,f'Max calls {num_calls[position]}')\n",
    "plt.title('Time taken for API calls', fontdict=title_font);\n",
    "plt.xlabel('Time Taken (s)', fontdict=font);\n",
    "plt.ylabel('Count of Api Calls', fontdict=font);\n",
    "plt.axis([min(time_taken),max(time_taken),100,num_of_prev_draws_to_get,])\n",
    "plt.grid(True)"
   ]
  },
  {
   "cell_type": "markdown",
   "metadata": {
    "id": "r8KqDz8Mi_WM"
   },
   "source": [
    "# Section 3 - Create the DNN and train on data"
   ]
  },
  {
   "cell_type": "code",
   "execution_count": 108,
   "metadata": {
    "id": "EuOZsLcjjCVz"
   },
   "outputs": [],
   "source": [
    "import tensorflow as tf\n",
    "import numpy as np\n",
    "from tensorflow import keras\n",
    "from keras.layers import Dense, Input, LSTM, Dropout\n",
    "from keras.optimizers import Adam\n",
    "from keras.models import Model\n",
    "from keras.utils.vis_utils import plot_model\n",
    "from keras.losses import MeanSquaredError, SparseCategoricalCrossentropy\n",
    "from keras.callbacks import ReduceLROnPlateau, EarlyStopping"
   ]
  },
  {
   "cell_type": "code",
   "execution_count": 96,
   "metadata": {
    "id": "6e3XU34VSAm-"
   },
   "outputs": [],
   "source": [
    "# Dataframe Rows\n",
    "rows = len(draws_df.index)\n",
    "\n",
    "epochs =  90#@param {type:\"slider\", min:20, max:300, step:10}\n",
    "previous_draws =  20#@param {type:\"slider\", min:2, max:40, step:1}\n",
    "lstm_units =  524#@param {type:\"integer\"}\n",
    "\n",
    "test_data =  500#@param {type:\"slider\", min:50, max:1000, step:50}"
   ]
  },
  {
   "cell_type": "code",
   "execution_count": 117,
   "metadata": {
    "colab": {
     "base_uri": "https://localhost:8080/"
    },
    "id": "28Dm5oLUjqvg",
    "outputId": "e8b10960-8d5b-4f6d-c6a5-02b822fa5c2b"
   },
   "outputs": [
    {
     "name": "stdout",
     "output_type": "stream",
     "text": [
      "Model: \"model_13\"\n",
      "_________________________________________________________________\n",
      "Layer (type)                 Output Shape              Param #   \n",
      "=================================================================\n",
      "digits (InputLayer)          [(None, 400)]             0         \n",
      "_________________________________________________________________\n",
      "dense_43 (Dense)             (None, 516)               206916    \n",
      "_________________________________________________________________\n",
      "dense_44 (Dense)             (None, 254)               131318    \n",
      "_________________________________________________________________\n",
      "dense_45 (Dense)             (None, 128)               32640     \n",
      "_________________________________________________________________\n",
      "dense_46 (Dense)             (None, 64)                8256      \n",
      "_________________________________________________________________\n",
      "dense_47 (Dense)             (None, 32)                2080      \n",
      "_________________________________________________________________\n",
      "predictions (Dense)          (None, 20)                660       \n",
      "=================================================================\n",
      "Total params: 381,870\n",
      "Trainable params: 381,870\n",
      "Non-trainable params: 0\n",
      "_________________________________________________________________\n"
     ]
    }
   ],
   "source": [
    "input = Input((previous_draws*20), name=\"digits\")\n",
    "x = Dense(516, activation='relu')(input)\n",
    "x = Dense(254, activation='relu')(x)\n",
    "x = Dense(128, activation='relu')(x)\n",
    "x = Dense(64, activation='relu')(x)\n",
    "x = Dense(32, activation='relu')(x)\n",
    "output = Dense(20,name=\"predictions\")(x)\n",
    "\n",
    "model = Model(input, output)\n",
    "model.summary()"
   ]
  },
  {
   "cell_type": "code",
   "execution_count": 120,
   "metadata": {
    "id": "aZEFWNjs3vLv"
   },
   "outputs": [],
   "source": [
    "optimizer = Adam()\n",
    "loss = MeanSquaredError()\n",
    "\n",
    "reduce_lr = ReduceLROnPlateau(monitor='val_loss', factor=0.1, patience=10, min_lr=0.000001)\n",
    "early_stopping = tf.keras.callbacks.EarlyStopping(monitor='loss', patience=30)\n",
    "\n",
    "model.compile(optimizer, loss)"
   ]
  },
  {
   "cell_type": "code",
   "execution_count": 81,
   "metadata": {
    "id": "2gDzuNS89uDN"
   },
   "outputs": [],
   "source": [
    "# This is for data read from csv so i have to take more actions to pass it as list of int\n",
    "X = []\n",
    "Y = []\n",
    "\n",
    "for i in range(previous_draws,rows):\n",
    "    \n",
    "    # Get N previous draws\n",
    "    inputs = []\n",
    "    for j in range(previous_draws,0,-1):\n",
    "        winning_numbers = draws_df.loc[j]['Winning Numbers']\n",
    "        winning_numbers = winning_numbers[1:-1]\n",
    "        for k in winning_numbers.split(', '):\n",
    "            inputs.append(int(k))\n",
    "            \n",
    "    X.append(inputs)\n",
    "\n",
    "    target = []\n",
    "    winning_numbers = draws_df.loc[i]['Winning Numbers']\n",
    "    winning_numbers = winning_numbers[1:-1]\n",
    "    for i in winning_numbers.split(', '):\n",
    "        target.append(int(i))\n",
    "    \n",
    "    Y.append(target)"
   ]
  },
  {
   "cell_type": "code",
   "execution_count": 16,
   "metadata": {
    "id": "lxUDDe6f9eWs"
   },
   "outputs": [],
   "source": [
    "# This is for the data fetched from the API\n",
    "X = []\n",
    "Y = []\n",
    "\n",
    "for i in range(previous_draws,rows):\n",
    "\n",
    "    # Get N previous draws\n",
    "    inputs = []\n",
    "    for j in range(previous_draws,0,-1):\n",
    "      inputs += draws_df.loc[i-j]['Winning Numbers']\n",
    "    X.append(inputs)\n",
    "\n",
    "    # Get target draw\n",
    "    Y.append(draws_df.loc[i]['Winning Numbers'])"
   ]
  },
  {
   "cell_type": "code",
   "execution_count": 82,
   "metadata": {
    "id": "ZjQU3mr0PZUM"
   },
   "outputs": [],
   "source": [
    "x_train = X[:-test_data]\n",
    "y_train = Y[:-test_data]\n",
    "x_test = X[-test_data:]\n",
    "y_test = Y[-test_data:]"
   ]
  },
  {
   "cell_type": "code",
   "execution_count": 121,
   "metadata": {
    "colab": {
     "base_uri": "https://localhost:8080/"
    },
    "id": "15AzLHqFV_2q",
    "outputId": "0ecd8524-084a-467e-c225-3eba14ee846f"
   },
   "outputs": [
    {
     "name": "stdout",
     "output_type": "stream",
     "text": [
      "Epoch 1/90\n",
      "297/297 [==============================] - 3s 7ms/step - loss: 570.4669 - val_loss: 42.8320\n",
      "Epoch 2/90\n",
      "297/297 [==============================] - 1s 3ms/step - loss: 41.5243 - val_loss: 42.8319\n",
      "Epoch 3/90\n",
      "297/297 [==============================] - 1s 3ms/step - loss: 39.2209 - val_loss: 50.0001\n",
      "Epoch 4/90\n",
      "297/297 [==============================] - 1s 3ms/step - loss: 42.9568 - val_loss: 44.9256\n",
      "Epoch 5/90\n",
      "297/297 [==============================] - 1s 3ms/step - loss: 41.0613 - val_loss: 48.7894\n",
      "Epoch 6/90\n",
      "297/297 [==============================] - 1s 3ms/step - loss: 42.1390 - val_loss: 47.1232\n",
      "Epoch 7/90\n",
      "297/297 [==============================] - 1s 3ms/step - loss: 40.4590 - val_loss: 43.8477\n",
      "Epoch 8/90\n",
      "297/297 [==============================] - 1s 3ms/step - loss: 40.4739 - val_loss: 42.6389\n",
      "Epoch 9/90\n",
      "297/297 [==============================] - 1s 3ms/step - loss: 40.2362 - val_loss: 46.7497\n",
      "Epoch 10/90\n",
      "297/297 [==============================] - 1s 3ms/step - loss: 39.3209 - val_loss: 43.0514\n",
      "Epoch 11/90\n",
      "297/297 [==============================] - 1s 3ms/step - loss: 40.4262 - val_loss: 42.6351\n",
      "Epoch 12/90\n",
      "297/297 [==============================] - 1s 3ms/step - loss: 40.0048 - val_loss: 47.4070\n",
      "Epoch 13/90\n",
      "297/297 [==============================] - 1s 3ms/step - loss: 40.0201 - val_loss: 46.3420\n",
      "Epoch 14/90\n",
      "297/297 [==============================] - 1s 3ms/step - loss: 40.0112 - val_loss: 46.7778\n",
      "Epoch 15/90\n",
      "297/297 [==============================] - 1s 3ms/step - loss: 40.4144 - val_loss: 46.0536\n",
      "Epoch 16/90\n",
      "297/297 [==============================] - 1s 3ms/step - loss: 40.5886 - val_loss: 54.0497\n",
      "Epoch 17/90\n",
      "297/297 [==============================] - 1s 3ms/step - loss: 39.8225 - val_loss: 44.5422\n",
      "Epoch 18/90\n",
      "297/297 [==============================] - 1s 3ms/step - loss: 40.0865 - val_loss: 46.3888\n",
      "Epoch 19/90\n",
      "297/297 [==============================] - 1s 3ms/step - loss: 39.9270 - val_loss: 42.0584\n",
      "Epoch 20/90\n",
      "297/297 [==============================] - 1s 3ms/step - loss: 39.8388 - val_loss: 44.3630\n",
      "Epoch 21/90\n",
      "297/297 [==============================] - 1s 3ms/step - loss: 40.2417 - val_loss: 42.1787\n",
      "Epoch 22/90\n",
      "297/297 [==============================] - 1s 3ms/step - loss: 39.2443 - val_loss: 43.5465\n",
      "Epoch 23/90\n",
      "297/297 [==============================] - 1s 3ms/step - loss: 39.7518 - val_loss: 43.1769\n",
      "Epoch 24/90\n",
      "297/297 [==============================] - 1s 2ms/step - loss: 40.0549 - val_loss: 43.6523\n",
      "Epoch 25/90\n",
      "297/297 [==============================] - 1s 3ms/step - loss: 39.4850 - val_loss: 44.2012\n",
      "Epoch 26/90\n",
      "297/297 [==============================] - 1s 3ms/step - loss: 40.7251 - val_loss: 41.7966\n",
      "Epoch 27/90\n",
      "297/297 [==============================] - 1s 3ms/step - loss: 39.1226 - val_loss: 41.7109\n",
      "Epoch 28/90\n",
      "297/297 [==============================] - 1s 3ms/step - loss: 38.8544 - val_loss: 41.7913\n",
      "Epoch 29/90\n",
      "297/297 [==============================] - 1s 3ms/step - loss: 39.8457 - val_loss: 42.0192\n",
      "Epoch 30/90\n",
      "297/297 [==============================] - 1s 3ms/step - loss: 39.1836 - val_loss: 42.9195\n",
      "Epoch 31/90\n",
      "297/297 [==============================] - 1s 3ms/step - loss: 39.7289 - val_loss: 41.7868\n",
      "Epoch 32/90\n",
      "297/297 [==============================] - 1s 3ms/step - loss: 38.9700 - val_loss: 42.1443\n",
      "Epoch 33/90\n",
      "297/297 [==============================] - 1s 3ms/step - loss: 38.9906 - val_loss: 41.8855\n",
      "Epoch 34/90\n",
      "297/297 [==============================] - 1s 3ms/step - loss: 39.1630 - val_loss: 41.8611\n",
      "Epoch 35/90\n",
      "297/297 [==============================] - 1s 3ms/step - loss: 39.2489 - val_loss: 44.6407\n",
      "Epoch 36/90\n",
      "297/297 [==============================] - 1s 3ms/step - loss: 38.3072 - val_loss: 41.9274\n",
      "Epoch 37/90\n",
      "297/297 [==============================] - 1s 3ms/step - loss: 39.7095 - val_loss: 45.7076\n",
      "Epoch 38/90\n",
      "297/297 [==============================] - 1s 3ms/step - loss: 39.4234 - val_loss: 41.7017\n",
      "Epoch 39/90\n",
      "297/297 [==============================] - 1s 2ms/step - loss: 37.9676 - val_loss: 41.6368\n",
      "Epoch 40/90\n",
      "297/297 [==============================] - 1s 3ms/step - loss: 37.7491 - val_loss: 41.6700\n",
      "Epoch 41/90\n",
      "297/297 [==============================] - 1s 3ms/step - loss: 38.3024 - val_loss: 42.1179\n",
      "Epoch 42/90\n",
      "297/297 [==============================] - 1s 3ms/step - loss: 38.0987 - val_loss: 42.5979\n",
      "Epoch 43/90\n",
      "297/297 [==============================] - 1s 3ms/step - loss: 37.8637 - val_loss: 41.5970\n",
      "Epoch 44/90\n",
      "297/297 [==============================] - 1s 3ms/step - loss: 38.6764 - val_loss: 41.6163\n",
      "Epoch 45/90\n",
      "297/297 [==============================] - 1s 3ms/step - loss: 37.9118 - val_loss: 41.6431\n",
      "Epoch 46/90\n",
      "297/297 [==============================] - 1s 3ms/step - loss: 38.2437 - val_loss: 41.9309\n",
      "Epoch 47/90\n",
      "297/297 [==============================] - 1s 3ms/step - loss: 38.0547 - val_loss: 41.7184\n",
      "Epoch 48/90\n",
      "297/297 [==============================] - 1s 3ms/step - loss: 38.1540 - val_loss: 42.0197\n",
      "Epoch 49/90\n",
      "297/297 [==============================] - 1s 3ms/step - loss: 38.0913 - val_loss: 41.9398\n",
      "Epoch 50/90\n",
      "297/297 [==============================] - 1s 3ms/step - loss: 37.9932 - val_loss: 41.6086\n",
      "Epoch 51/90\n",
      "297/297 [==============================] - 1s 3ms/step - loss: 38.3969 - val_loss: 41.9015\n",
      "Epoch 52/90\n",
      "297/297 [==============================] - 1s 3ms/step - loss: 38.3852 - val_loss: 42.2941\n",
      "Epoch 53/90\n",
      "297/297 [==============================] - 1s 3ms/step - loss: 39.1165 - val_loss: 41.6355\n",
      "Epoch 54/90\n",
      "297/297 [==============================] - 1s 3ms/step - loss: 37.5979 - val_loss: 41.6255\n",
      "Epoch 55/90\n",
      "297/297 [==============================] - 1s 3ms/step - loss: 38.0214 - val_loss: 41.6441\n",
      "Epoch 56/90\n",
      "297/297 [==============================] - 1s 3ms/step - loss: 37.9398 - val_loss: 41.6181\n",
      "Epoch 57/90\n",
      "297/297 [==============================] - 1s 3ms/step - loss: 37.7472 - val_loss: 41.6573\n",
      "Epoch 58/90\n",
      "297/297 [==============================] - 1s 3ms/step - loss: 37.5096 - val_loss: 41.6084\n",
      "Epoch 59/90\n",
      "297/297 [==============================] - 1s 3ms/step - loss: 38.0762 - val_loss: 41.6286\n",
      "Epoch 60/90\n",
      "297/297 [==============================] - 1s 3ms/step - loss: 37.5362 - val_loss: 41.6259\n",
      "Epoch 61/90\n",
      "297/297 [==============================] - 1s 3ms/step - loss: 38.2814 - val_loss: 41.6140\n",
      "Epoch 62/90\n",
      "297/297 [==============================] - 1s 3ms/step - loss: 38.5228 - val_loss: 41.5848\n",
      "Epoch 63/90\n",
      "297/297 [==============================] - 1s 3ms/step - loss: 38.1743 - val_loss: 41.6145\n",
      "Epoch 64/90\n",
      "297/297 [==============================] - 1s 3ms/step - loss: 38.1531 - val_loss: 41.5968\n",
      "Epoch 65/90\n",
      "297/297 [==============================] - 1s 3ms/step - loss: 37.7663 - val_loss: 41.6982\n",
      "Epoch 66/90\n",
      "297/297 [==============================] - 1s 3ms/step - loss: 37.9519 - val_loss: 41.6380\n",
      "Epoch 67/90\n",
      "297/297 [==============================] - 1s 3ms/step - loss: 38.4058 - val_loss: 41.7403\n",
      "Epoch 68/90\n",
      "297/297 [==============================] - 1s 3ms/step - loss: 38.1744 - val_loss: 41.6482\n",
      "Epoch 69/90\n",
      "297/297 [==============================] - 1s 3ms/step - loss: 37.8106 - val_loss: 41.6636\n",
      "Epoch 70/90\n",
      "297/297 [==============================] - 1s 3ms/step - loss: 37.8961 - val_loss: 41.6011\n",
      "Epoch 71/90\n",
      "297/297 [==============================] - 1s 3ms/step - loss: 38.4162 - val_loss: 41.6653\n",
      "Epoch 72/90\n",
      "297/297 [==============================] - 1s 3ms/step - loss: 37.5259 - val_loss: 41.6242\n",
      "Epoch 73/90\n",
      "297/297 [==============================] - 1s 3ms/step - loss: 37.7376 - val_loss: 41.6226\n",
      "Epoch 74/90\n",
      "297/297 [==============================] - 1s 3ms/step - loss: 38.1107 - val_loss: 41.6213\n",
      "Epoch 75/90\n",
      "297/297 [==============================] - 1s 3ms/step - loss: 38.2499 - val_loss: 41.6354\n",
      "Epoch 76/90\n",
      "297/297 [==============================] - 1s 3ms/step - loss: 37.8486 - val_loss: 41.6243\n",
      "Epoch 77/90\n",
      "297/297 [==============================] - 1s 3ms/step - loss: 37.7950 - val_loss: 41.6166\n",
      "Epoch 78/90\n",
      "297/297 [==============================] - 1s 3ms/step - loss: 37.9641 - val_loss: 41.6340\n",
      "Epoch 79/90\n",
      "297/297 [==============================] - 1s 3ms/step - loss: 38.2097 - val_loss: 41.6252\n",
      "Epoch 80/90\n",
      "297/297 [==============================] - 1s 3ms/step - loss: 37.8895 - val_loss: 41.6126\n",
      "Epoch 81/90\n",
      "297/297 [==============================] - 1s 3ms/step - loss: 38.6100 - val_loss: 41.6125\n",
      "Epoch 82/90\n",
      "297/297 [==============================] - 1s 3ms/step - loss: 38.4208 - val_loss: 41.6297\n",
      "Epoch 83/90\n",
      "297/297 [==============================] - 1s 3ms/step - loss: 37.2430 - val_loss: 41.6220\n",
      "Epoch 84/90\n",
      "297/297 [==============================] - 1s 2ms/step - loss: 37.9634 - val_loss: 41.6197\n",
      "Epoch 85/90\n",
      "297/297 [==============================] - 1s 3ms/step - loss: 38.0049 - val_loss: 41.6264\n",
      "Epoch 86/90\n",
      "297/297 [==============================] - 1s 3ms/step - loss: 38.3082 - val_loss: 41.6252\n",
      "Epoch 87/90\n",
      "297/297 [==============================] - 1s 3ms/step - loss: 38.4429 - val_loss: 41.6289\n",
      "Epoch 88/90\n",
      "297/297 [==============================] - 1s 3ms/step - loss: 38.5237 - val_loss: 41.6404\n",
      "Epoch 89/90\n",
      "297/297 [==============================] - 1s 3ms/step - loss: 38.3226 - val_loss: 41.6189\n",
      "Epoch 90/90\n",
      "297/297 [==============================] - 1s 3ms/step - loss: 37.5426 - val_loss: 41.6251\n"
     ]
    }
   ],
   "source": [
    "history = model.fit(x_train, y_train, batch, epochs=epochs, validation_data=(x_test, y_test), callbacks=[reduce_lr, early_stopping])"
   ]
  },
  {
   "cell_type": "code",
   "execution_count": 122,
   "metadata": {
    "colab": {
     "base_uri": "https://localhost:8080/",
     "height": 295
    },
    "id": "OyDv8_8N_O2O",
    "outputId": "af4176e5-8cd3-4042-ea27-9908deb9f794"
   },
   "outputs": [
    {
     "data": {
      "image/png": "[encoded data removed]",
      "text/plain": [
       "<Figure size 432x288 with 1 Axes>"
      ]
     },
     "metadata": {
      "needs_background": "light",
      "tags": []
     },
     "output_type": "display_data"
    }
   ],
   "source": [
    "plt.plot(history.history['loss'])\n",
    "plt.plot(history.history['val_loss'])\n",
    "plt.title('model loss')\n",
    "plt.ylabel('loss')\n",
    "plt.xlabel('epoch')\n",
    "plt.legend(['train', 'test'], loc='upper right')\n",
    "plt.show()"
   ]
  },
  {
   "cell_type": "code",
   "execution_count": 124,
   "metadata": {
    "colab": {
     "base_uri": "https://localhost:8080/"
    },
    "id": "dJ3_cghEU_Ts",
    "outputId": "cbd01dfb-5af7-4077-92fd-cd87f581a761"
   },
   "outputs": [
    {
     "name": "stdout",
     "output_type": "stream",
     "text": [
      "Expected [8, 16, 18, 22, 29, 31, 32, 33, 35, 36, 37, 38, 40, 43, 46, 51, 61, 70, 71, 76]\n",
      "Predicted [ 4.  8. 12. 15. 19. 23. 27. 31. 35. 39. 42. 46. 50. 54. 58. 62. 66. 69.\n",
      " 73. 77.]\n"
     ]
    }
   ],
   "source": [
    "print(f'Expected {y_test[18]}')\n",
    "predictions = model.predict(np.asarray(x_test[18]).reshape(-1,previous_draws*20))\n",
    "predictions = [np.round(prediction) for prediction in predictions]\n",
    "print(f'Predicted {predictions[0]}')"
   ]
  },
  {
   "cell_type": "code",
   "execution_count": null,
   "metadata": {
    "id": "m8YNPSbUvAU7"
   },
   "outputs": [],
   "source": [
    "# Custom Train Loop\n",
    "\n",
    "for epoch in range(epochs):\n",
    "  print(f\"\\nEpoch {epoch+1} ==> \")\n",
    "  for i in range(previous_draws,rows):\n",
    "\n",
    "    # Get five previous draws\n",
    "    inputs = []\n",
    "    for j in range(previous_draws,0,-1):\n",
    "      inputs += draws_df.loc[i-j]['Winning Numbers']\n",
    "    inputs = np.asarray(inputs).reshape(-1,100)\n",
    "\n",
    "    # Get target draw\n",
    "    target = draws_df.loc[i]['Winning Numbers']\n",
    "\n",
    "    # Make predictions\n",
    "    with tf.GradientTape() as tape:\n",
    "      predictions = model(inputs, training=True)\n",
    "      loss_value = loss(target, predictions)\n",
    "\n",
    "    # Update Gradients \n",
    "    gradients = tape.gradient(loss_value, model.trainable_weights)\n",
    "\n",
    "    # Apply Gradients\n",
    "    optimizer.apply_gradients(zip(gradients, model.trainable_weights))\n",
    "\n",
    "  if epoch%10 == 0:\n",
    "    print(f'Loss {loss_value}')"
   ]
  },
  {
   "cell_type": "markdown",
   "metadata": {
    "id": "0-tKnWa0kwyo"
   },
   "source": [
    "# Section 4 - Predict next draws"
   ]
  },
  {
   "cell_type": "code",
   "execution_count": null,
   "metadata": {
    "colab": {
     "base_uri": "https://localhost:8080/",
     "height": 860
    },
    "id": "JXDvh8vuk3Tq",
    "outputId": "bf045c82-4b4c-48c7-91b3-e06db6ec7647"
   },
   "outputs": [],
   "source": [
    "almost_five_minutes = 280\n",
    "numbers = []\n",
    "\n",
    "\n",
    "previous_draw_id , _ , _ , _ , _ , _ = get_active_draw()\n",
    "\n",
    "# Fetch N previous draws\n",
    "for i in range(previous_draws,0,-1):\n",
    "  winning_numbers , _ , _ , _ , _ = get_draw(previous_draw_id-i)\n",
    "  numbers += winning_numbers\n",
    "\n",
    "predictions = model.predict(np.asarray(numbers).reshape(-1,previous_draws*20))\n",
    "predictions = [np.round(prediction) for prediction in predictions]\n",
    "print(f'P ==> {predictions[0]}')\n",
    "\n",
    "total_correct_predictions = 0\n",
    "draws = 0\n",
    "\n",
    "while(True):\n",
    "  current_draw_id , winning_numbers , month, day, hour, minute = get_active_draw()\n",
    "\n",
    "  if(current_draw_id != previous_draw_id):\n",
    "    previous_draw_id = current_draw_id;\n",
    "    draws += 1\n",
    "\n",
    "    # Remove first(oldest) 20 numbers\n",
    "    numbers = numbers[20:]\n",
    "\n",
    "    # Add latest draw numbers\n",
    "    numbers += winning_numbers\n",
    "\n",
    "    # Make prediction\n",
    "    correct_predictions = 0;\n",
    "    correct_numbers = []\n",
    "    for prediction in predictions[0]:\n",
    "      for number in winning_numbers:\n",
    "        if(prediction==number):\n",
    "          correct_predictions += 1\n",
    "          correct_numbers.append(number)\n",
    "    total_correct_predictions += correct_predictions\n",
    "\n",
    "\n",
    "    predictions = model.predict(np.asarray(numbers).reshape(-1,previous_draws*20))\n",
    "    predictions = [np.round(prediction) for prediction in predictions]\n",
    "    print(f'D ===> {winning_numbers}')\n",
    "    print(f'Correct predictions {correct_predictions} : {[correct_number for correct_number in correct_numbers]}')\n",
    "    print(f'Average correct predictions {round((total_correct_predictions/(20*draws)*100),2)}%')\n",
    "    print(f'\\n\\nP ==> {predictions[0]}')\n",
    "\n",
    "    # Sleep for almost fime minutes\n",
    "    time.sleep(almost_five_minutes)\n",
    "  else:\n",
    "    time.sleep(10)"
   ]
  },
  {
   "cell_type": "code",
   "execution_count": null,
   "metadata": {
    "id": "VYkBTdTxGyAv"
   },
   "outputs": [],
   "source": []
  }
 ],
 "metadata": {
  "accelerator": "GPU",
  "colab": {
   "collapsed_sections": [],
   "name": "KinoAI.ipynb",
   "provenance": []
  },
  "kernelspec": {
   "display_name": "Python 3",
   "language": "python",
   "name": "python3"
  },
  "language_info": {
   "codemirror_mode": {
    "name": "ipython",
    "version": 3
   },
   "file_extension": ".py",
   "mimetype": "text/x-python",
   "name": "python",
   "nbconvert_exporter": "python",
   "pygments_lexer": "ipython3",
   "version": "3.6.10"
  }
 },
 "nbformat": 4,
 "nbformat_minor": 4
}
